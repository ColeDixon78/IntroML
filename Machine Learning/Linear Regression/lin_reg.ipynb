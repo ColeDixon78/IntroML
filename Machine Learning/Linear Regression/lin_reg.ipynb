{
 "cells": [
  {
   "cell_type": "markdown",
   "metadata": {},
   "source": [
    "Intro to ML assignment 2: Univariate linear regression on iris data set.\n",
    "\n",
    "Step 1: we derive the gradient of the MSE for univariate linear regression. This gives us: \n",
    "\n",
    "$\\nabla_w L = -\\frac{2}{N}\\left(\\sum_{i=0}^{N-1} y_n-(w_0+w_1*x_n),\\quad\\sum_{i=0}^{N-1} y_n-(w_0+w_1*x_n)\\right).$"
   ]
  },
  {
   "cell_type": "code",
   "execution_count": null,
   "metadata": {},
   "outputs": [],
   "source": [
    "#Step 2: write algorithm that updates values of weights in the opposite direction of the gradient\n",
    "\n",
    "def train(weights, n):\n",
    "    return w0,w1"
   ]
  }
 ],
 "metadata": {
  "kernelspec": {
   "display_name": "Python 3",
   "language": "python",
   "name": "python3"
  },
  "language_info": {
   "codemirror_mode": {
    "name": "ipython",
    "version": 3
   },
   "file_extension": ".py",
   "mimetype": "text/x-python",
   "name": "python",
   "nbconvert_exporter": "python",
   "pygments_lexer": "ipython3",
   "version": "3.9.7"
  },
  "orig_nbformat": 4
 },
 "nbformat": 4,
 "nbformat_minor": 2
}
