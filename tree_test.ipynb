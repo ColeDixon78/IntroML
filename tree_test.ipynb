{
 "cells": [
  {
   "cell_type": "code",
   "execution_count": 34,
   "metadata": {},
   "outputs": [],
   "source": [
    "#imports\n",
    "import numpy as np\n",
    "import pandas as pd\n",
    "import matplotlib.pyplot as plt\n",
    "from sklearn import model_selection"
   ]
  },
  {
   "cell_type": "markdown",
   "metadata": {},
   "source": [
    "## Binary Decision Tree Implementation\n",
    "\n",
    "#### methods:\n",
    "learn(X,y,impurity measure = 'entropy', pruning = False)<br>\n",
    ">X is data matrix in the form of a pandas DataFrame<br>\n",
    ">y is a vector of labels in the form of a pandas DataFrame<br>\n",
    ">impurity measure can be 'entropy' or 'gini'<br>\n",
    ">pruning accepts True or False<br>\n",
    ">returns: None; head of decision tree is stored in 'head' instance variable of the object<br>\n",
    "\n",
    "predict(x)<br>\n",
    ">x can be a single vector or a data matrix in the form of a pandas DataFrame<br>\n",
    ">returns: DataFrame with predicted labels of input<br>\n",
    "\n",
    "get_stats(X = None, y = None)<br>\n",
    ">X is a data matrix (in the form of a DataFrame) that you would like to test the model's performance on<br>\n",
    ">y is the label vector<br>\n",
    ">if X and y are not passed as parameters then it will calculate stats based off of the training data<br>\n",
    ">returns: DataFrame with accuracy, recall, precision columns<br>"
   ]
  },
  {
   "cell_type": "code",
   "execution_count": 35,
   "metadata": {},
   "outputs": [],
   "source": [
    "#binary decision tree implementation\n",
    "class Tree():\n",
    "    def __init__(self,name):\n",
    "        #instance variables\n",
    "        self.name = name #name of the model\n",
    "        self.head = None #head node of the tree\n",
    "        self.X_training = None #store data that the model is trained on\n",
    "        self.y_training = None #^\n",
    "    def __str__(self): #to print some kind of representation of the tree- it's not pretty though\n",
    "        return f'Head: {self.head}'\n",
    "    \n",
    "    #classes for construction of tree\n",
    "    class Node():\n",
    "            def __init__(self,dec_key,dec_val):\n",
    "                self.dec_key = dec_key\n",
    "                self.dec_val = dec_val\n",
    "            def __str__(self):\n",
    "                return f'Decision key: {self.dec_key}, Desicion value: {self.dec_val}\\n \\tless than: {self.left_branch}\\n \\tgreater than: {self.right_branch}'\n",
    "            def set_right(self,next):\n",
    "                self.right_branch = next\n",
    "            def set_left(self,next):\n",
    "                self.left_branch = next\n",
    "            def set_prev(self,prev):\n",
    "                self.prev = prev\n",
    "            pass\n",
    "    class Leaf():\n",
    "        def __init__(self,val):\n",
    "            self.val = val\n",
    "            pass\n",
    "        def __str__(self):\n",
    "            return f'Leaf value: {self.val}'\n",
    "        def set_prev(self,prev):\n",
    "            self.prev = prev\n",
    "        pass\n",
    "\n",
    "    def __impurity(self,X,y,impurity_measure):\n",
    "        impurity_list = []\n",
    "        for key in X.keys():\n",
    "            split = np.mean(X[key])\n",
    "            X_split = X[key] < split\n",
    "            impurity = 0\n",
    "            for value in X_split.unique():\n",
    "                prob_X = X_split.value_counts()[value]/len(X_split)\n",
    "                if impurity_measure == 'gini':\n",
    "                    impurity += prob_X\n",
    "                column = y.keys()[-1]\n",
    "                for label in y[column].unique():\n",
    "                    try:\n",
    "                        prob_y_cond = (((X_split == value)&(y[column] == label)).value_counts()[True]/len(X_split))/prob_X\n",
    "                    except:\n",
    "                        impurity_list.append(0)\n",
    "                        continue\n",
    "                    if impurity_measure == 'entropy':\n",
    "                        impurity -= prob_X * prob_y_cond * np.log2(prob_y_cond)\n",
    "                    elif impurity_measure == 'gini':\n",
    "                        impurity -= prob_X * (prob_y_cond**2)\n",
    "            impurity_list.append(impurity)\n",
    "        impurity_list = np.array(impurity_list)\n",
    "        return impurity_list\n",
    "\n",
    "    def __choose_split(self,X,y,impurity_measure):\n",
    "        #calculate either conditional entropy or gini index\n",
    "        impurity_array = self.__impurity(X,y,impurity_measure)\n",
    "        if impurity_array.all() == 0:\n",
    "            return self.Leaf(y[y.keys()[-1]].value_counts().keys()[0])\n",
    "        #return the index of smallest value as this will result in the highest information gain\n",
    "        return np.argmin(impurity_array)\n",
    "\n",
    "    def learn(self,X,y,impurity_measure = 'entropy',pruning = False):\n",
    "        if pruning:\n",
    "            X_training = X.iloc[:len(X)//2,:]\n",
    "            X_pruning = X.iloc[len(X)//2:,:]\n",
    "            y_training = y.iloc[:len(y)//2,:]\n",
    "            y_pruning = y.iloc[len(y//2):,:]\n",
    "            self.head = self.__learn_recursive(X_training,y_training,impurity_measure)\n",
    "        else:\n",
    "            self.X_training = X.reset_index(drop = True)\n",
    "            self.y_training = y.reset_index(drop = True)\n",
    "            self.head = self.__learn_recursive(X,y,impurity_measure)\n",
    "\n",
    "    def __learn_recursive(self,X,y,impurity_measure,prev = None):\n",
    "        #check if all labels are the same; return leaf of that value if they are\n",
    "        column = y.keys()[-1]\n",
    "        if len(y[column].unique()) == 1:\n",
    "            branch = self.Leaf(y[column].iloc[0])\n",
    "            branch.set_prev(prev)\n",
    "            return branch\n",
    "        #check if all data values are the same and return most common label if true\n",
    "        data_is_equal = True\n",
    "        for key in X.keys():\n",
    "            if len(X[key].unique()) == 1:\n",
    "                continue\n",
    "            else:\n",
    "                data_is_equal = False\n",
    "        if data_is_equal:\n",
    "            branch = self.Leaf(y[column].value_counts().keys()[0])\n",
    "            branch.set_prev(prev)\n",
    "            return branch\n",
    "        \n",
    "        #find split with most information gain and split data to left and right branches\n",
    "        else:\n",
    "            split_index = self.__choose_split(X,y,impurity_measure)\n",
    "            if isinstance(split_index,self.Leaf):\n",
    "                split_index.set_prev(prev)\n",
    "                return split_index\n",
    "            split_key = X.keys()[split_index]\n",
    "            split_value = np.mean(X[split_key])\n",
    "            branch = self.Node(split_key,split_value)\n",
    "            branch.set_prev(prev)\n",
    "            branch.set_left(self.__learn_recursive(X[X[split_key] < split_value],y[X[split_key] < split_value],impurity_measure))\n",
    "            branch.set_right(self.__learn_recursive(X[X[split_key] >= split_value],y[X[split_key] >= split_value],impurity_measure))\n",
    "            return branch\n",
    "\n",
    "    def predict(self,x):\n",
    "        results = []\n",
    "        for index, value in x.iterrows():\n",
    "            pointer = self.head\n",
    "            while not isinstance(pointer,self.Leaf):\n",
    "                dec_val = pointer.dec_val\n",
    "                dec_key = pointer.dec_key\n",
    "                if value[dec_key] < dec_val:\n",
    "                    pointer = pointer.left_branch\n",
    "                else:\n",
    "                    pointer = pointer.right_branch\n",
    "            results.append(pointer.val)\n",
    "        return pd.DataFrame({\"type\":results})\n",
    "    \n",
    "    def get_stats(self,X = None, y = None):\n",
    "        if X is None and y is None:\n",
    "            X,y, = self.X_training,self.y_training\n",
    "        elif X is None or y is None:\n",
    "            print('must give both X and y datasets')\n",
    "            return\n",
    "        y = y.reset_index(drop = True)\n",
    "        y_predict = self.predict(X)\n",
    "        accuracy = ((y_predict == y).value_counts()[True])/len(y)\n",
    "        recall = (y_predict & y).value_counts()[1]/y.value_counts()[1]\n",
    "        precision = (y_predict & y).value_counts()[1]/y_predict.value_counts()[1]\n",
    "        return pd.DataFrame({'accuracy': [accuracy],'precision':[precision],'recall':recall},index = [self.name])\n",
    "        \n",
    "    "
   ]
  },
  {
   "cell_type": "markdown",
   "metadata": {},
   "source": [
    "### Model Training"
   ]
  },
  {
   "cell_type": "code",
   "execution_count": 36,
   "metadata": {},
   "outputs": [],
   "source": [
    "#load data into pandas dataframes\n",
    "df = pd.read_csv(\"wine_dataset.csv\")\n",
    "X = df.iloc[:,:-1]\n",
    "y = df.iloc[:,-1:]\n",
    "#split data into training, validation, and test sets\n",
    "#figure out how to set random seed\n",
    "np.random.seed()\n",
    "X_training,X_val_test,y_training,y_val_test = model_selection.train_test_split(X,y,train_size = 0.7,test_size=0.3)\n",
    "X_validation,X_test,y_validation,y_test = model_selection.train_test_split(X_val_test,y_val_test,train_size = 0.5,test_size=0.5)\n",
    "#training of 4 different models\n",
    "model_0 = Tree(\"model_0: entropy, no pruning\")\n",
    "model_0.learn(X_training,y_training)\n",
    "\n",
    "model_1 = Tree(\"model_1: gini index, no pruning\")\n",
    "model_1.learn(X_training,y_training,impurity_measure = 'gini')\n",
    "\n",
    "#model_2 = Tree()\n",
    "#model_2.learn(X_training,y_training,pruning = True)\n",
    "\n",
    "#model_3 = Tree()\n",
    "#model_3.learn(X_training,y_training,impurity_measure = 'gini',pruning = True)"
   ]
  },
  {
   "cell_type": "markdown",
   "metadata": {},
   "source": [
    "### Model Evaluation and Selection"
   ]
  },
  {
   "cell_type": "code",
   "execution_count": 38,
   "metadata": {},
   "outputs": [
    {
     "name": "stdout",
     "output_type": "stream",
     "text": [
      "Training statistics:\n",
      "                                  accuracy  precision    recall\n",
      "model_0: entropy, no pruning     0.915103   0.909010  0.920506\n",
      "model_1: gini index, no pruning  0.915550   0.909821  0.920506 \n",
      "\n",
      "Validation statistics:\n",
      "                                  accuracy  precision    recall\n",
      "model_0: entropy, no pruning     0.870833   0.864198  0.878661\n",
      "model_1: gini index, no pruning  0.870833   0.867220  0.874477 \n",
      "\n"
     ]
    },
    {
     "data": {
      "image/png": "[encoded data removed]",
      "text/plain": [
       "<Figure size 640x480 with 1 Axes>"
      ]
     },
     "metadata": {},
     "output_type": "display_data"
    },
    {
     "data": {
      "image/png": "[encoded data removed]",
      "text/plain": [
       "<Figure size 640x480 with 1 Axes>"
      ]
     },
     "metadata": {},
     "output_type": "display_data"
    }
   ],
   "source": [
    "model_0_training_stats = model_0.get_stats()\n",
    "model_0_validation_stats = model_0.get_stats(X_validation,y_validation)\n",
    "\n",
    "model_1_training_stats = model_1.get_stats()\n",
    "model_1_validation_stats = model_1.get_stats(X_validation,y_validation)\n",
    "\n",
    "training_stats = pd.concat([model_0_training_stats,model_1_training_stats])\n",
    "validation_stats = pd.concat([model_0_validation_stats,model_1_validation_stats])\n",
    "\n",
    "training_stats.plot(kind = 'bar')\n",
    "print('Training statistics:\\n',training_stats,'\\n')\n",
    "validation_stats.plot(kind = 'bar')\n",
    "print('Validation statistics:\\n',validation_stats,'\\n')"
   ]
  },
  {
   "cell_type": "markdown",
   "metadata": {},
   "source": [
    "### Model Testing and comparison with SKLearn implementation"
   ]
  },
  {
   "cell_type": "code",
   "execution_count": null,
   "metadata": {},
   "outputs": [],
   "source": []
  }
 ],
 "metadata": {
  "kernelspec": {
   "display_name": "Python 3",
   "language": "python",
   "name": "python3"
  },
  "language_info": {
   "codemirror_mode": {
    "name": "ipython",
    "version": 3
   },
   "file_extension": ".py",
   "mimetype": "text/x-python",
   "name": "python",
   "nbconvert_exporter": "python",
   "pygments_lexer": "ipython3",
   "version": "3.9.7"
  },
  "orig_nbformat": 4
 },
 "nbformat": 4,
 "nbformat_minor": 2
}
